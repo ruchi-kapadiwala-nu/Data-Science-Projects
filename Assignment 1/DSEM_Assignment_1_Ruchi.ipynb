{
  "nbformat": 4,
  "nbformat_minor": 0,
  "metadata": {
    "colab": {
      "provenance": []
    },
    "kernelspec": {
      "name": "python3",
      "display_name": "Python 3"
    },
    "language_info": {
      "name": "python"
    }
  },
  "cells": [
    {
      "cell_type": "code",
      "execution_count": 36,
      "metadata": {
        "colab": {
          "base_uri": "https://localhost:8080/"
        },
        "id": "58JUxkCwLBtS",
        "outputId": "7d21657d-4f91-4c6f-b885-8c5ac9207efc"
      },
      "outputs": [
        {
          "output_type": "stream",
          "name": "stdout",
          "text": [
            "List 1 :  [104, 28, 79, 461, 128, 130, 457, 173, 329, 121]\n",
            "List 2 :  [296, 219, 163, 129, 232, 477, 178, 193, 272, 438]\n"
          ]
        }
      ],
      "source": [
        "from re import X\n",
        "from typing_extensions import OrderedDict\n",
        "import random\n",
        "import math\n",
        "from collections import Counter\n",
        "import numpy as np\n",
        "from google.colab import files\n",
        "import pandas as pd\n",
        "\n",
        "#Generate a random list\n",
        "list1 = []\n",
        "for i in range(0,10):\n",
        "  n = random.randint(0,500)\n",
        "  list1.append(n)\n",
        "print(\"List 1 : \",list1)\n",
        "\n",
        "#Generate a second list\n",
        "list2 = []\n",
        "for i in range(0,10):\n",
        "  n = random.randint(0,500)\n",
        "  list2.append(n)\n",
        "print(\"List 2 : \", list2)"
      ]
    },
    {
      "cell_type": "markdown",
      "source": [
        "#1 - Perform the following list operations:"
      ],
      "metadata": {
        "id": "_I6o4WR6fuBq"
      }
    },
    {
      "cell_type": "markdown",
      "source": [
        "### 1.a - Maximum number in a list of numbers"
      ],
      "metadata": {
        "id": "lMQFUWq1f_0c"
      }
    },
    {
      "cell_type": "code",
      "source": [
        "print(\"Max number in list : \", max(list1))"
      ],
      "metadata": {
        "colab": {
          "base_uri": "https://localhost:8080/"
        },
        "id": "I8HhbRg6fMOJ",
        "outputId": "0edb2315-83bc-4f68-cd51-11ce88236ff7"
      },
      "execution_count": 37,
      "outputs": [
        {
          "output_type": "stream",
          "name": "stdout",
          "text": [
            "Max number in list :  461\n"
          ]
        }
      ]
    },
    {
      "cell_type": "markdown",
      "source": [
        "### 1.b - Concatenate two lists"
      ],
      "metadata": {
        "id": "rsMvUzJXgWSe"
      }
    },
    {
      "cell_type": "code",
      "source": [
        "concatList = list1+list2\n",
        "print(\"Concatenated Lists : \", concatList)"
      ],
      "metadata": {
        "colab": {
          "base_uri": "https://localhost:8080/"
        },
        "id": "FkFJ4qfOgdem",
        "outputId": "338b4244-5eff-42c9-8300-5700bffc97a7"
      },
      "execution_count": 38,
      "outputs": [
        {
          "output_type": "stream",
          "name": "stdout",
          "text": [
            "Concatenated Lists :  [104, 28, 79, 461, 128, 130, 457, 173, 329, 121, 296, 219, 163, 129, 232, 477, 178, 193, 272, 438]\n"
          ]
        }
      ]
    },
    {
      "cell_type": "markdown",
      "source": [
        "### 1.c - Reverse a list"
      ],
      "metadata": {
        "id": "Pw729UXigpNt"
      }
    },
    {
      "cell_type": "code",
      "source": [
        "list1.reverse()\n",
        "print(\"Reversed List : \", list1)"
      ],
      "metadata": {
        "colab": {
          "base_uri": "https://localhost:8080/"
        },
        "id": "Fs1qGN5YgsBp",
        "outputId": "71064460-0f93-494d-8e08-850269441549"
      },
      "execution_count": 40,
      "outputs": [
        {
          "output_type": "stream",
          "name": "stdout",
          "text": [
            "Reversed List :  [104, 28, 79, 461, 128, 130, 457, 173, 329, 121]\n"
          ]
        }
      ]
    },
    {
      "cell_type": "markdown",
      "source": [
        "### 1.d - Interchange the first and last elements in a list"
      ],
      "metadata": {
        "id": "hSc_vAZXg20z"
      }
    },
    {
      "cell_type": "code",
      "source": [
        "def newList(list1):\n",
        "  sizeOfList = len(list1)\n",
        "  tempElement = list1[0]\n",
        "  list1[0] = list1[sizeOfList - 1]\n",
        "  list1[sizeOfList - 1] = tempElement\n",
        "  return(list1)\n",
        "  \n",
        "print(\"Interchanged elements list : \", newList(list1))"
      ],
      "metadata": {
        "colab": {
          "base_uri": "https://localhost:8080/"
        },
        "id": "Bhtai_80g40J",
        "outputId": "887f13d6-3671-4a9a-f7eb-f0a2b198928d"
      },
      "execution_count": 22,
      "outputs": [
        {
          "output_type": "stream",
          "name": "stdout",
          "text": [
            "Interchanged elements list :  [323, 29, 329, 390, 430, 162, 267, 40, 59, 204]\n"
          ]
        }
      ]
    },
    {
      "cell_type": "markdown",
      "source": [
        "### 1.e - Search if a given string is a substring of a list of strings"
      ],
      "metadata": {
        "id": "3OdOPDH2iJlt"
      }
    },
    {
      "cell_type": "code",
      "source": [
        "print(list2 in list1)"
      ],
      "metadata": {
        "colab": {
          "base_uri": "https://localhost:8080/"
        },
        "id": "dPyB-1EliMN5",
        "outputId": "23adc19d-456a-4660-f522-3fa37e785432"
      },
      "execution_count": 23,
      "outputs": [
        {
          "output_type": "stream",
          "name": "stdout",
          "text": [
            "False\n"
          ]
        }
      ]
    },
    {
      "cell_type": "markdown",
      "source": [
        "#2 - Write a Python program to delete an element from a list by index:"
      ],
      "metadata": {
        "id": "ap3kOwzCiba0"
      }
    },
    {
      "cell_type": "code",
      "source": [
        "n = int(input(\"Index value : \"))\n",
        "\n",
        "if n > 10:\n",
        "  print(\"Index value greater than list\")\n",
        "else:\n",
        "  list1.pop(n)\n",
        "\n",
        "print(\"List post deletion : \", list1)"
      ],
      "metadata": {
        "colab": {
          "base_uri": "https://localhost:8080/"
        },
        "id": "RTJS4wcpigOG",
        "outputId": "6c48e607-4fa0-4128-cc9a-dd8bf5255ccf"
      },
      "execution_count": 30,
      "outputs": [
        {
          "output_type": "stream",
          "name": "stdout",
          "text": [
            "Index value : 3\n",
            "List post deletion :  [287, 84, 27, 17, 75, 490, 171, 381, 395]\n"
          ]
        }
      ]
    },
    {
      "cell_type": "markdown",
      "source": [
        "#3 - Write a Python program to check whether the given number is even or not:"
      ],
      "metadata": {
        "id": "AHHC0jEtngvg"
      }
    },
    {
      "cell_type": "code",
      "source": [
        "n = int(input(\"Input value \"))\n",
        "\n",
        "if n%2 == 0:\n",
        "  print(\"Even\")\n",
        "else:\n",
        "  print(\"Odd\")"
      ],
      "metadata": {
        "colab": {
          "base_uri": "https://localhost:8080/"
        },
        "id": "kh2PB9Cxnjpa",
        "outputId": "dbe33420-5658-4620-f90a-e71f1d6c7e2b"
      },
      "execution_count": 41,
      "outputs": [
        {
          "output_type": "stream",
          "name": "stdout",
          "text": [
            "Input value 21\n",
            "Odd\n"
          ]
        }
      ]
    },
    {
      "cell_type": "markdown",
      "source": [
        "#4 - Write a program which can compute the factorial of a given number. Make sure to take into account the exceptions like a negative number:"
      ],
      "metadata": {
        "id": "qlDDeWgZnni4"
      }
    },
    {
      "cell_type": "code",
      "source": [
        "n = int(input(\"Input value \"))\n",
        "\n",
        "def factorial(n):\n",
        "  if (n==1 or n==0):\n",
        "    return 1\n",
        "  elif n < 0:\n",
        "    return (\"Input is negetive\")\n",
        "  else:\n",
        "    n = n * factorial(n-1);\n",
        "  return n\n",
        "  \n",
        "print(factorial(n))"
      ],
      "metadata": {
        "colab": {
          "base_uri": "https://localhost:8080/"
        },
        "id": "aCTjCiMxnsQt",
        "outputId": "7c205e51-11ac-4895-9172-b5db30fdcf7a"
      },
      "execution_count": 42,
      "outputs": [
        {
          "output_type": "stream",
          "name": "stdout",
          "text": [
            "Input value 4\n",
            "24\n"
          ]
        }
      ]
    },
    {
      "cell_type": "markdown",
      "source": [
        "#5 - Write a Python program to create a dictionary and display both the keys and values sorted in alphabetical order by the key:"
      ],
      "metadata": {
        "id": "SrhARCi-nxkC"
      }
    },
    {
      "cell_type": "code",
      "source": [
        "dict1 = {\"Lastname\": \"Kapadiwala\", \"Name\": \"Ruchi\", \"Year\": 1998, \"Age\": 24}\n",
        "dict1 = OrderedDict(sorted(dict1.items()))\n",
        "print(dict1)"
      ],
      "metadata": {
        "colab": {
          "base_uri": "https://localhost:8080/"
        },
        "id": "eJAGyHpkn1eU",
        "outputId": "b62db02a-cee5-426f-d24c-50b5a118a286"
      },
      "execution_count": 44,
      "outputs": [
        {
          "output_type": "stream",
          "name": "stdout",
          "text": [
            "OrderedDict([('Age', 24), ('Lastname', 'Kapadiwala'), ('Name', 'Ruchi'), ('Year', 1998)])\n"
          ]
        }
      ]
    },
    {
      "cell_type": "markdown",
      "source": [
        "#6 - Write a lambda function to compute log values of only positive numbers, else return “Invalid”:"
      ],
      "metadata": {
        "id": "3LcTv9GMoE88"
      }
    },
    {
      "cell_type": "code",
      "source": [
        "n = int(input(\"Input value \"))\n",
        "\n",
        "if n > 0:\n",
        "  x = lambda n : np.log(n)\n",
        "  print(\"Log value is \",x(n))\n",
        "else:\n",
        "  print(\"Invalid\")"
      ],
      "metadata": {
        "colab": {
          "base_uri": "https://localhost:8080/"
        },
        "id": "rTDbaXluoHtw",
        "outputId": "feaf6bdd-26b0-4da7-cd55-11fbb7b4ce5d"
      },
      "execution_count": 45,
      "outputs": [
        {
          "output_type": "stream",
          "name": "stdout",
          "text": [
            "Input value 7\n",
            "Log value is  1.9459101490553132\n"
          ]
        }
      ]
    },
    {
      "cell_type": "markdown",
      "source": [
        "#7 - Write a function to add elements of two input matrices:"
      ],
      "metadata": {
        "id": "kaZWlxyFoNv_"
      }
    },
    {
      "cell_type": "code",
      "source": [
        "a = [[1,39,10], [48,54,69], [70,8,92]]\n",
        "b = [[95,83,72], [67,55,40], [34,22,12]]\n",
        "output = [[0,0,0], [0,0,0], [0,0,0]]\n",
        "\n",
        "for i in range(len(a)):\n",
        "  for j in range(len(a[0])):\n",
        "    output[i][j] = a[i][j] + b[i][j]\n",
        "    \n",
        "for r in output:\n",
        "  print(r)"
      ],
      "metadata": {
        "colab": {
          "base_uri": "https://localhost:8080/"
        },
        "id": "0vG2vpsfoREN",
        "outputId": "4ded8111-c018-4e87-e9a4-a0eb820a54bf"
      },
      "execution_count": 46,
      "outputs": [
        {
          "output_type": "stream",
          "name": "stdout",
          "text": [
            "[96, 122, 82]\n",
            "[115, 109, 109]\n",
            "[104, 30, 104]\n"
          ]
        }
      ]
    },
    {
      "cell_type": "markdown",
      "source": [
        "#8 - Create your own Pandas dataframe df with three columns and a dozen rows. Do the following operations:"
      ],
      "metadata": {
        "id": "M6xUUH0OobjC"
      }
    },
    {
      "cell_type": "code",
      "source": [
        "#Create dataframe\n",
        "dict2 = {\"First\" : [1, 2, 3, 4, 5, 6, 7, 8, 9, 10, 11, 12], \n",
        "        \"Second\" : [\"a\", \"b\", \"NaN\", \"d\", \"e\", \"f\", \"g\", \"h\", \"i\", \"j\", \"k\", \"l\"], \n",
        "        \"Third\" : [20, 21, 19, 18, 32, 35, 23, 234, 567, 56, 89, 45]}\n",
        "df = pd.DataFrame(dict2)\n",
        "print(df)"
      ],
      "metadata": {
        "colab": {
          "base_uri": "https://localhost:8080/"
        },
        "id": "ywb81fPQooJ5",
        "outputId": "ff39ebd4-f4de-4c8e-8ac1-145ac992344a"
      },
      "execution_count": 47,
      "outputs": [
        {
          "output_type": "stream",
          "name": "stdout",
          "text": [
            "    First Second  Third\n",
            "0       1      a     20\n",
            "1       2      b     21\n",
            "2       3    NaN     19\n",
            "3       4      d     18\n",
            "4       5      e     32\n",
            "5       6      f     35\n",
            "6       7      g     23\n",
            "7       8      h    234\n",
            "8       9      i    567\n",
            "9      10      j     56\n",
            "10     11      k     89\n",
            "11     12      l     45\n"
          ]
        }
      ]
    },
    {
      "cell_type": "markdown",
      "source": [
        "### 8.1 - Insert a new column to df"
      ],
      "metadata": {
        "id": "bakt6Cbooti4"
      }
    },
    {
      "cell_type": "code",
      "source": [
        "df[\"Four\"] = [\"mumbai\", \"delhi\", \"rajasthan\", \"bangalore\", \"chennai\", \"haryana\", \"pune\", \"patna\", \"bihar\", \"jharkhand\", \"thane\", \"vasai\"]\n",
        "print(df)"
      ],
      "metadata": {
        "colab": {
          "base_uri": "https://localhost:8080/"
        },
        "id": "tGRyYxdtowii",
        "outputId": "ec492d74-98b4-470f-a67a-b8bc8540d6a9"
      },
      "execution_count": 48,
      "outputs": [
        {
          "output_type": "stream",
          "name": "stdout",
          "text": [
            "    First Second  Third       Four\n",
            "0       1      a     20     mumbai\n",
            "1       2      b     21      delhi\n",
            "2       3    NaN     19  rajasthan\n",
            "3       4      d     18  bangalore\n",
            "4       5      e     32    chennai\n",
            "5       6      f     35    haryana\n",
            "6       7      g     23       pune\n",
            "7       8      h    234      patna\n",
            "8       9      i    567      bihar\n",
            "9      10      j     56  jharkhand\n",
            "10     11      k     89      thane\n",
            "11     12      l     45      vasai\n"
          ]
        }
      ]
    },
    {
      "cell_type": "markdown",
      "source": [
        "### 8.2 - Add a new tuple to df"
      ],
      "metadata": {
        "id": "d3i_ojGTo203"
      }
    },
    {
      "cell_type": "code",
      "source": [
        "new_row = {\"First\" : 13, \"Second\" : \"m\", \"Third\" : 67, \"Four\" : \"punjab\"}\n",
        "print(df.append(new_row, ignore_index = True))"
      ],
      "metadata": {
        "colab": {
          "base_uri": "https://localhost:8080/"
        },
        "id": "zZXDzOeio7GU",
        "outputId": "47d8a7f1-509d-4fa9-cafa-da69d4df2dfd"
      },
      "execution_count": 49,
      "outputs": [
        {
          "output_type": "stream",
          "name": "stdout",
          "text": [
            "    First Second  Third       Four\n",
            "0       1      a     20     mumbai\n",
            "1       2      b     21      delhi\n",
            "2       3    NaN     19  rajasthan\n",
            "3       4      d     18  bangalore\n",
            "4       5      e     32    chennai\n",
            "5       6      f     35    haryana\n",
            "6       7      g     23       pune\n",
            "7       8      h    234      patna\n",
            "8       9      i    567      bihar\n",
            "9      10      j     56  jharkhand\n",
            "10     11      k     89      thane\n",
            "11     12      l     45      vasai\n",
            "12     13      m     67     punjab\n"
          ]
        }
      ]
    },
    {
      "cell_type": "markdown",
      "source": [
        "### 8.3 - Iterate over the rows of df and display"
      ],
      "metadata": {
        "id": "BcDGZ_zTpAZu"
      }
    },
    {
      "cell_type": "code",
      "source": [
        "for index, row in df.iterrows():\n",
        "  print(row[\"First\"], row[\"Second\"], row[\"Third\"], row[\"Four\"])"
      ],
      "metadata": {
        "colab": {
          "base_uri": "https://localhost:8080/"
        },
        "id": "Kx-HPLeFpDXP",
        "outputId": "16f0ede3-fa95-481f-ec7b-60df5a1141bc"
      },
      "execution_count": 50,
      "outputs": [
        {
          "output_type": "stream",
          "name": "stdout",
          "text": [
            "1 a 20 mumbai\n",
            "2 b 21 delhi\n",
            "3 NaN 19 rajasthan\n",
            "4 d 18 bangalore\n",
            "5 e 32 chennai\n",
            "6 f 35 haryana\n",
            "7 g 23 pune\n",
            "8 h 234 patna\n",
            "9 i 567 bihar\n",
            "10 j 56 jharkhand\n",
            "11 k 89 thane\n",
            "12 l 45 vasai\n"
          ]
        }
      ]
    },
    {
      "cell_type": "markdown",
      "source": [
        "### 8.4 - Display the column names of df"
      ],
      "metadata": {
        "id": "xMD8zKoUpIa7"
      }
    },
    {
      "cell_type": "code",
      "source": [
        "for col in df.columns:\n",
        "  print(col)"
      ],
      "metadata": {
        "colab": {
          "base_uri": "https://localhost:8080/"
        },
        "id": "D8ZROpV8pLz4",
        "outputId": "0aed1d4c-8d72-4563-ee14-4243a1b62096"
      },
      "execution_count": 52,
      "outputs": [
        {
          "output_type": "stream",
          "name": "stdout",
          "text": [
            "First\n",
            "Second\n",
            "Third\n",
            "Four\n"
          ]
        }
      ]
    },
    {
      "cell_type": "markdown",
      "source": [
        "### 8.5 - Drop a list of rows based on some criterion applied to the first column (e.g., if the first column is an integer column then all rows with values of the first column greater than 25)"
      ],
      "metadata": {
        "id": "pOoFNoMspR7y"
      }
    },
    {
      "cell_type": "code",
      "source": [
        "df.drop(df[df[\"First\"] > 5].index, inplace = True)\n",
        "print(df)"
      ],
      "metadata": {
        "colab": {
          "base_uri": "https://localhost:8080/"
        },
        "id": "lhJf-1-qpUrk",
        "outputId": "f8e73b4a-cd01-41b5-ba5d-17e173bccf46"
      },
      "execution_count": 51,
      "outputs": [
        {
          "output_type": "stream",
          "name": "stdout",
          "text": [
            "   First Second  Third       Four\n",
            "0      1      a     20     mumbai\n",
            "1      2      b     21      delhi\n",
            "2      3    NaN     19  rajasthan\n",
            "3      4      d     18  bangalore\n",
            "4      5      e     32    chennai\n"
          ]
        }
      ]
    },
    {
      "cell_type": "markdown",
      "source": [
        "### 8.6 - Export df into an excel file and then import from the same"
      ],
      "metadata": {
        "id": "iRUOyD0DpY4l"
      }
    },
    {
      "cell_type": "code",
      "source": [
        "df.to_excel(\"assignment 1.xlsx\", encoding = \"utf-8-sig\")\n",
        "importexcel = pd.read_excel(\"assignment 1.xlsx\")\n",
        "print(\"Imported excel \", importexcel)"
      ],
      "metadata": {
        "colab": {
          "base_uri": "https://localhost:8080/"
        },
        "id": "NMlqTyAPphVN",
        "outputId": "16873444-e6ac-43df-d96f-627fd46d20c6"
      },
      "execution_count": 53,
      "outputs": [
        {
          "output_type": "stream",
          "name": "stdout",
          "text": [
            "Imported excel     Unnamed: 0  First Second  Third       Four\n",
            "0           0      1      a     20     mumbai\n",
            "1           1      2      b     21      delhi\n",
            "2           2      3    NaN     19  rajasthan\n",
            "3           3      4      d     18  bangalore\n",
            "4           4      5      e     32    chennai\n"
          ]
        }
      ]
    },
    {
      "cell_type": "markdown",
      "source": [
        "### 8.7 - Replace all the NaN values with zeros in a column of df"
      ],
      "metadata": {
        "id": "VSqEcDP2pugP"
      }
    },
    {
      "cell_type": "code",
      "source": [
        "df[\"Second\"] = df[\"Second\"].replace([\"NaN\"],\"0\")\n",
        "print(df)"
      ],
      "metadata": {
        "colab": {
          "base_uri": "https://localhost:8080/"
        },
        "id": "6WoGHJS4pwmD",
        "outputId": "9aacb4de-cc95-467f-e3cb-3059c6c2e409"
      },
      "execution_count": 54,
      "outputs": [
        {
          "output_type": "stream",
          "name": "stdout",
          "text": [
            "   First Second  Third       Four\n",
            "0      1      a     20     mumbai\n",
            "1      2      b     21      delhi\n",
            "2      3      0     19  rajasthan\n",
            "3      4      d     18  bangalore\n",
            "4      5      e     32    chennai\n"
          ]
        }
      ]
    },
    {
      "cell_type": "markdown",
      "source": [
        "### 8.8 - Set a given value for a particular cell in df"
      ],
      "metadata": {
        "id": "8pvkBIKip03f"
      }
    },
    {
      "cell_type": "code",
      "source": [
        "df.at[2,\"Second\"] = 10\n",
        "print(df)"
      ],
      "metadata": {
        "colab": {
          "base_uri": "https://localhost:8080/"
        },
        "id": "4NwiHjH4p5rz",
        "outputId": "c9459bb5-96d5-49ee-c00e-84a44303adc6"
      },
      "execution_count": 55,
      "outputs": [
        {
          "output_type": "stream",
          "name": "stdout",
          "text": [
            "   First Second  Third       Four\n",
            "0      1      a     20     mumbai\n",
            "1      2      b     21      delhi\n",
            "2      3     10     19  rajasthan\n",
            "3      4      d     18  bangalore\n",
            "4      5      e     32    chennai\n"
          ]
        }
      ]
    },
    {
      "cell_type": "markdown",
      "source": [
        "### 8.9 - Divide df into in a given ratio"
      ],
      "metadata": {
        "id": "AqLGSHARp8U0"
      }
    },
    {
      "cell_type": "code",
      "source": [
        "set1 = df.sample(frac = 0.5)\n",
        "print(set1)\n",
        "print(df.drop(set1.index))"
      ],
      "metadata": {
        "colab": {
          "base_uri": "https://localhost:8080/"
        },
        "id": "Mgp6YTx3qASg",
        "outputId": "a97708de-083e-4936-e263-1a48c0b771ec"
      },
      "execution_count": 56,
      "outputs": [
        {
          "output_type": "stream",
          "name": "stdout",
          "text": [
            "   First Second  Third       Four\n",
            "4      5      e     32    chennai\n",
            "2      3     10     19  rajasthan\n",
            "   First Second  Third       Four\n",
            "0      1      a     20     mumbai\n",
            "1      2      b     21      delhi\n",
            "3      4      d     18  bangalore\n"
          ]
        }
      ]
    },
    {
      "cell_type": "markdown",
      "source": [
        "### 8.10 - Rename a specific column name"
      ],
      "metadata": {
        "id": "EANvJrrgqDfr"
      }
    },
    {
      "cell_type": "code",
      "source": [
        "df.rename(columns = {\"First\" : \"Fifth\" }, inplace = True)\n",
        "print(df.columns)"
      ],
      "metadata": {
        "colab": {
          "base_uri": "https://localhost:8080/"
        },
        "id": "rHNrciMeqHXU",
        "outputId": "d4a074a5-2e5b-48db-dec6-57ac2785fae8"
      },
      "execution_count": 57,
      "outputs": [
        {
          "output_type": "stream",
          "name": "stdout",
          "text": [
            "Index(['Fifth', 'Second', 'Third', 'Four'], dtype='object')\n"
          ]
        }
      ]
    },
    {
      "cell_type": "markdown",
      "source": [
        "### 8.11 - Display the last three rows of df"
      ],
      "metadata": {
        "id": "k4dWjHN6qTB0"
      }
    },
    {
      "cell_type": "code",
      "source": [
        "print(df.tail(3))"
      ],
      "metadata": {
        "colab": {
          "base_uri": "https://localhost:8080/"
        },
        "id": "5WvIL6I7qUh0",
        "outputId": "27eab729-9b3d-4e2d-aa9f-fd09fb916929"
      },
      "execution_count": 58,
      "outputs": [
        {
          "output_type": "stream",
          "name": "stdout",
          "text": [
            "   Fifth Second  Third       Four\n",
            "2      3     10     19  rajasthan\n",
            "3      4      d     18  bangalore\n",
            "4      5      e     32    chennai\n"
          ]
        }
      ]
    },
    {
      "cell_type": "markdown",
      "source": [
        "#9 - With a given list of numbers, write a program to print this list after removing all duplicate values with the original order reserved"
      ],
      "metadata": {
        "id": "rx0U846nqdun"
      }
    },
    {
      "cell_type": "code",
      "source": [
        "list3 = [1, 2, 3, 4, 6, 7, 5, 4, 3, 2, 1]\n",
        "\n",
        "print(*dict.fromkeys(list3))"
      ],
      "metadata": {
        "colab": {
          "base_uri": "https://localhost:8080/"
        },
        "id": "xA9PoKBjqeWb",
        "outputId": "d1c0f646-a97a-4ca1-853c-1e2c81efa644"
      },
      "execution_count": 60,
      "outputs": [
        {
          "output_type": "stream",
          "name": "stdout",
          "text": [
            "1 2 3 4 6 7 5\n"
          ]
        }
      ]
    },
    {
      "cell_type": "markdown",
      "source": [
        "#10 - Write a program which counts and prints the numbers of each character in a string input by console"
      ],
      "metadata": {
        "id": "3lGqZPZdqoVe"
      }
    },
    {
      "cell_type": "code",
      "source": [
        "n = input(\"Input string \")\n",
        "print(\"Number of Characters \", Counter(n))"
      ],
      "metadata": {
        "colab": {
          "base_uri": "https://localhost:8080/"
        },
        "id": "V56i-qUoqq4h",
        "outputId": "f9da020a-dc84-43d9-fbfe-61e335be03a1"
      },
      "execution_count": 61,
      "outputs": [
        {
          "output_type": "stream",
          "name": "stdout",
          "text": [
            "Input string ruchi\n",
            "Number of Characters  Counter({'r': 1, 'u': 1, 'c': 1, 'h': 1, 'i': 1})\n"
          ]
        }
      ]
    },
    {
      "cell_type": "markdown",
      "source": [
        "#11 - Check if a given string is symmetrical and palindrome or not"
      ],
      "metadata": {
        "id": "WJVrU6d2qwVy"
      }
    },
    {
      "cell_type": "code",
      "source": [
        "input_string = input(\"Enter the string \")\n",
        "counter_symmetrical = 0\n",
        "counter_palindrome = 0\n",
        "half_of_string = int(len(input_string) / 2)\n",
        " \n",
        "if len(input_string) % 2 == 0:\n",
        "  first_str = input_string[:half_of_string]\n",
        "  second_str = input_string[half_of_string:]\n",
        "else:\n",
        "  first_str = input_string[:half_of_string]\n",
        "  second_str = input_string[half_of_string+1:]\n",
        "\n",
        "if first_str == second_str:\n",
        "  counter_symmetrical = 1\n",
        "else:\n",
        "  counter_symmetrical = 0\n",
        "\n",
        "if first_str == second_str[::-1]:\n",
        "  counter_palindrome = 1\n",
        "else:\n",
        "  counter_palindrome = 0\n",
        "\n",
        "if counter_palindrome == 1 and counter_symmetrical == 1:\n",
        "  print(\"Text is both palindrome and symmetrical\")\n",
        "elif counter_symmetrical == 0 and counter_palindrome == 1:\n",
        "  print(\"Text is palindrome and not symmetrical\")\n",
        "elif counter_palindrome == 0 and counter_symmetrical == 1:\n",
        "  print(\"Text is symmetrical and not palindrome\")\n",
        "else:\n",
        "  print(\"Text is neither symmetrical nor palindrome\")"
      ],
      "metadata": {
        "colab": {
          "base_uri": "https://localhost:8080/"
        },
        "id": "-Zb2l5xIqy7o",
        "outputId": "d97422ff-43b4-49f2-ac74-8d883a362594"
      },
      "execution_count": 64,
      "outputs": [
        {
          "output_type": "stream",
          "name": "stdout",
          "text": [
            "Enter the string malayalam\n",
            "Text is palindrome and not symmetrical\n"
          ]
        }
      ]
    },
    {
      "cell_type": "markdown",
      "source": [
        "#12 - Write a Python program to find the n-th term in a Fibonacci series using recursion"
      ],
      "metadata": {
        "id": "9NYGjD0nrKag"
      }
    },
    {
      "cell_type": "code",
      "source": [
        "n = int(input(\"Enter the value : \"))\n",
        "\n",
        "def Fibonacci(n):\n",
        "    if n<= 0:\n",
        "        print(\"Input is negative\")\n",
        "    elif n == 1:\n",
        "        return 0\n",
        "    elif n == 2:\n",
        "        return 1\n",
        "    else:\n",
        "        return Fibonacci(n-1)+Fibonacci(n-2)\n",
        "\n",
        "print(Fibonacci(n))"
      ],
      "metadata": {
        "colab": {
          "base_uri": "https://localhost:8080/"
        },
        "id": "m5slE2hArM_H",
        "outputId": "4da8d98d-0020-4a58-b479-628635ac4c52"
      },
      "execution_count": 66,
      "outputs": [
        {
          "output_type": "stream",
          "name": "stdout",
          "text": [
            "Enter the value : 0\n",
            "Input is negative\n",
            "None\n"
          ]
        }
      ]
    },
    {
      "cell_type": "markdown",
      "source": [
        "#13 - Write a Python program to find the longest substring between two given strings. You may not use any package except the substring function but you can make use of recursive function"
      ],
      "metadata": {
        "id": "hyjwSE2wrihi"
      }
    },
    {
      "cell_type": "code",
      "source": [
        "def substring(len1, len2, count):\n",
        "  if (len1 == 0 or len2 == 0):\n",
        "    return count\n",
        "  if (a[len1 - 1] == b[len2 - 1]):\n",
        "    count = substring(len1 - 1, len2 - 1, count + 1)\n",
        "  count = max(count, max(substring(len1, len2 - 1, 0), substring(len1 - 1, len2, 0)))\n",
        "  return count\n",
        "\n",
        "if __name__ == \"__main__\": \n",
        "  a = \"apple\"\n",
        "  b = \"apple pie\" \n",
        "  len1 = len(a)\n",
        "  len2 = len(b)\n",
        "  \n",
        "print(\"Substring is\", substring(len1, len2, 0))"
      ],
      "metadata": {
        "colab": {
          "base_uri": "https://localhost:8080/"
        },
        "id": "aXKZbZJ2rjuU",
        "outputId": "950e6ae8-8ef4-41e8-9e26-3c861450b5fa"
      },
      "execution_count": 67,
      "outputs": [
        {
          "output_type": "stream",
          "name": "stdout",
          "text": [
            "Substring is 5\n"
          ]
        }
      ]
    },
    {
      "cell_type": "markdown",
      "source": [
        "#14 - Write a Python program which accepts basic mathematical expressions from console and print the evaluation result"
      ],
      "metadata": {
        "id": "g3FF-At2rudj"
      }
    },
    {
      "cell_type": "code",
      "source": [
        "input_exp = input(\"Enter the expression : \")\n",
        "n = eval(input_exp)\n",
        "print(n)"
      ],
      "metadata": {
        "colab": {
          "base_uri": "https://localhost:8080/"
        },
        "id": "qqX3Ff61rxJL",
        "outputId": "df9ccdfa-35ea-4978-a8e9-d2a4eaed52e8"
      },
      "execution_count": 68,
      "outputs": [
        {
          "output_type": "stream",
          "name": "stdout",
          "text": [
            "Enter the expression : 3*4\n",
            "12\n"
          ]
        }
      ]
    },
    {
      "cell_type": "markdown",
      "source": [
        "#15 - Read the loan data file into a dataframe and then compute the following:"
      ],
      "metadata": {
        "id": "uKJSUBpRr6QA"
      }
    },
    {
      "cell_type": "code",
      "source": [
        "import matplotlib.pyplot as plt\n",
        "\n",
        "importexcel = pd.read_excel(\"loan.xlsx\")"
      ],
      "metadata": {
        "id": "CSw3gAUWr50Y"
      },
      "execution_count": 70,
      "outputs": []
    },
    {
      "cell_type": "markdown",
      "source": [
        "### 15.1 - mean and variance of the Age column"
      ],
      "metadata": {
        "id": "49oB5OWysX4F"
      }
    },
    {
      "cell_type": "code",
      "source": [
        "print(\"Mean of age: \", importexcel[\"Age\"].mean())\n",
        "print(\"Variance of age:\",importexcel[\"Age\"].var())"
      ],
      "metadata": {
        "colab": {
          "base_uri": "https://localhost:8080/"
        },
        "id": "Yn-wpFrAsciO",
        "outputId": "5a35800f-be2b-4511-d35a-5cab54849c2f"
      },
      "execution_count": 71,
      "outputs": [
        {
          "output_type": "stream",
          "name": "stdout",
          "text": [
            "Mean of age:  31.51016316713987\n",
            "Variance of age: 140.27074594116948\n"
          ]
        }
      ]
    },
    {
      "cell_type": "markdown",
      "source": [
        "### 15.2 - correlation coefficient between the two numerical columns Age and Time_at_address"
      ],
      "metadata": {
        "id": "QepOCukNsfjv"
      }
    },
    {
      "cell_type": "code",
      "source": [
        "print(\"Correlation coefficient is:\", importexcel[\"Age\"].corr(importexcel[\"Time_at_address\"]))"
      ],
      "metadata": {
        "colab": {
          "base_uri": "https://localhost:8080/"
        },
        "id": "fG9v-WU1sjEs",
        "outputId": "f9017da3-6eb4-45a0-a98b-ee66b96097d6"
      },
      "execution_count": 72,
      "outputs": [
        {
          "output_type": "stream",
          "name": "stdout",
          "text": [
            "Correlation coefficient is: 0.21734150131364394\n"
          ]
        }
      ]
    },
    {
      "cell_type": "markdown",
      "source": [
        "### 15.3 - the conditional probability p(Decision = reject | Occupation = Unemployed)"
      ],
      "metadata": {
        "id": "_gH9SA2Hsl0f"
      }
    },
    {
      "cell_type": "code",
      "source": [
        "data_loan = pd.crosstab(importexcel.Decision, importexcel.Occupation, normalize = True)\n",
        "data_loan = data_loan.loc[:, [\"unemploye\"]]\n",
        "print(data_loan)\n",
        "conditional_probability = data_loan.loc[\"reject\",\"unemploye\"] / data_loan.loc[\"reject\"]\n",
        "print(\"conditional prob \", conditional_probability)"
      ],
      "metadata": {
        "colab": {
          "base_uri": "https://localhost:8080/"
        },
        "id": "DRlyk2lws_6a",
        "outputId": "ec4ba8be-00ac-4ab1-cadc-d8d02496dea4"
      },
      "execution_count": 75,
      "outputs": [
        {
          "output_type": "stream",
          "name": "stdout",
          "text": [
            "Occupation  unemploye\n",
            "Decision             \n",
            "accept       0.009324\n",
            "reject       0.060606\n",
            "conditional prob  Occupation\n",
            "unemploye    1.0\n",
            "Name: reject, dtype: float64\n"
          ]
        }
      ]
    },
    {
      "cell_type": "markdown",
      "source": [
        "### 15.4 - frequency of values in the Job-status column and then draw a bar diagram using matplotlib"
      ],
      "metadata": {
        "id": "8X-wCSr7tDp1"
      }
    },
    {
      "cell_type": "code",
      "source": [
        "freq = importexcel[\"Job_status\"].value_counts()\n",
        "print(freq)\n",
        "data_keys = list(freq.keys())\n",
        "data_values = []\n",
        "for i in range(0,freq.size):\n",
        "  data_values.append(freq[i])\n",
        "fig = plt.figure(figsize = (10, 5))\n",
        "plt.bar(data_keys, data_values, color =\"blue\", width = 0.5)\n",
        "plt.show()"
      ],
      "metadata": {
        "colab": {
          "base_uri": "https://localhost:8080/",
          "height": 464
        },
        "id": "UpBGKLjqtHGL",
        "outputId": "86bcab14-37e5-4000-840e-11f1b79a7710"
      },
      "execution_count": 76,
      "outputs": [
        {
          "output_type": "stream",
          "name": "stdout",
          "text": [
            "private_s    265\n",
            "governmen     82\n",
            "self_empl     37\n",
            "unemploye     31\n",
            "retired        8\n",
            "student        5\n",
            "military       1\n",
            "Name: Job_status, dtype: int64\n"
          ]
        },
        {
          "output_type": "display_data",
          "data": {
            "text/plain": [
              "<Figure size 720x360 with 1 Axes>"
            ],
            "image/png": "[encoded data removed]"
          },
          "metadata": {
            "needs_background": "light"
          }
        }
      ]
    },
    {
      "cell_type": "code",
      "source": [
        "! pip install bioinfokit"
      ],
      "metadata": {
        "colab": {
          "base_uri": "https://localhost:8080/"
        },
        "id": "FWQbvx1ntNd9",
        "outputId": "d3417d4c-5bc2-4611-e378-cf2ac26bec2b"
      },
      "execution_count": 77,
      "outputs": [
        {
          "output_type": "stream",
          "name": "stdout",
          "text": [
            "Looking in indexes: https://pypi.org/simple, https://us-python.pkg.dev/colab-wheels/public/simple/\n",
            "Collecting bioinfokit\n",
            "  Downloading bioinfokit-2.1.0.tar.gz (86 kB)\n",
            "\u001b[2K     \u001b[90m━━━━━━━━━━━━━━━━━━━━━━━━━━━━━━━━━━━━━━━━\u001b[0m \u001b[32m87.0/87.0 KB\u001b[0m \u001b[31m4.4 MB/s\u001b[0m eta \u001b[36m0:00:00\u001b[0m\n",
            "\u001b[?25h  Preparing metadata (setup.py) ... \u001b[?25l\u001b[?25hdone\n",
            "Requirement already satisfied: pandas in /usr/local/lib/python3.8/dist-packages (from bioinfokit) (1.3.5)\n",
            "Requirement already satisfied: numpy in /usr/local/lib/python3.8/dist-packages (from bioinfokit) (1.21.6)\n",
            "Requirement already satisfied: matplotlib in /usr/local/lib/python3.8/dist-packages (from bioinfokit) (3.2.2)\n",
            "Requirement already satisfied: scipy in /usr/local/lib/python3.8/dist-packages (from bioinfokit) (1.7.3)\n",
            "Requirement already satisfied: scikit-learn in /usr/local/lib/python3.8/dist-packages (from bioinfokit) (1.0.2)\n",
            "Requirement already satisfied: seaborn in /usr/local/lib/python3.8/dist-packages (from bioinfokit) (0.11.2)\n",
            "Requirement already satisfied: matplotlib-venn in /usr/local/lib/python3.8/dist-packages (from bioinfokit) (0.11.7)\n",
            "Requirement already satisfied: tabulate in /usr/local/lib/python3.8/dist-packages (from bioinfokit) (0.8.10)\n",
            "Requirement already satisfied: statsmodels in /usr/local/lib/python3.8/dist-packages (from bioinfokit) (0.12.2)\n",
            "Collecting textwrap3\n",
            "  Downloading textwrap3-0.9.2-py2.py3-none-any.whl (12 kB)\n",
            "Collecting adjustText\n",
            "  Downloading adjustText-0.7.3.tar.gz (7.5 kB)\n",
            "  Preparing metadata (setup.py) ... \u001b[?25l\u001b[?25hdone\n",
            "Requirement already satisfied: python-dateutil>=2.1 in /usr/local/lib/python3.8/dist-packages (from matplotlib->bioinfokit) (2.8.2)\n",
            "Requirement already satisfied: cycler>=0.10 in /usr/local/lib/python3.8/dist-packages (from matplotlib->bioinfokit) (0.11.0)\n",
            "Requirement already satisfied: pyparsing!=2.0.4,!=2.1.2,!=2.1.6,>=2.0.1 in /usr/local/lib/python3.8/dist-packages (from matplotlib->bioinfokit) (3.0.9)\n",
            "Requirement already satisfied: kiwisolver>=1.0.1 in /usr/local/lib/python3.8/dist-packages (from matplotlib->bioinfokit) (1.4.4)\n",
            "Requirement already satisfied: pytz>=2017.3 in /usr/local/lib/python3.8/dist-packages (from pandas->bioinfokit) (2022.7)\n",
            "Requirement already satisfied: threadpoolctl>=2.0.0 in /usr/local/lib/python3.8/dist-packages (from scikit-learn->bioinfokit) (3.1.0)\n",
            "Requirement already satisfied: joblib>=0.11 in /usr/local/lib/python3.8/dist-packages (from scikit-learn->bioinfokit) (1.2.0)\n",
            "Requirement already satisfied: patsy>=0.5 in /usr/local/lib/python3.8/dist-packages (from statsmodels->bioinfokit) (0.5.3)\n",
            "Requirement already satisfied: six in /usr/local/lib/python3.8/dist-packages (from patsy>=0.5->statsmodels->bioinfokit) (1.15.0)\n",
            "Building wheels for collected packages: bioinfokit, adjustText\n",
            "  Building wheel for bioinfokit (setup.py) ... \u001b[?25l\u001b[?25hdone\n",
            "  Created wheel for bioinfokit: filename=bioinfokit-2.1.0-py3-none-any.whl size=58662 sha256=9f3cdab72b665fd14b31a49a2f5daf839507a901103c5c60abc30f76b18e418c\n",
            "  Stored in directory: /root/.cache/pip/wheels/93/5b/a8/2be2669621c3c344d362eb6703e5fd7b6ece47a6b5ab35b207\n",
            "  Building wheel for adjustText (setup.py) ... \u001b[?25l\u001b[?25hdone\n",
            "  Created wheel for adjustText: filename=adjustText-0.7.3-py3-none-any.whl size=7096 sha256=640d5ca88f165cb55f77600367f41a94c22aa8fa21f2523e6b7fdbaa7c532afe\n",
            "  Stored in directory: /root/.cache/pip/wheels/06/b2/e0/b239bd2c0ff89b98c4f0c86a63e7059f38a8dfaf6df2641c63\n",
            "Successfully built bioinfokit adjustText\n",
            "Installing collected packages: textwrap3, adjustText, bioinfokit\n",
            "Successfully installed adjustText-0.7.3 bioinfokit-2.1.0 textwrap3-0.9.2\n"
          ]
        }
      ]
    },
    {
      "cell_type": "markdown",
      "source": [
        "#16 - Suppose the loan data file provides some examples of applications to accept or reject, as specified in the Decision column N, given the input background info in columns A-M. Come up with various ways to find out the degree of relevance between each input “categorical” column of A-M and the Decision column N"
      ],
      "metadata": {
        "id": "wa807-H3tJ4i"
      }
    },
    {
      "cell_type": "code",
      "source": [
        "import pandas as pd\n",
        "import numpy as np\n",
        "from scipy.stats import chi2_contingency\n",
        "import seaborn as sns\n",
        "from io import StringIO\n",
        "import matplotlib.pyplot as plt\n",
        "from bioinfokit.analys import stat\n",
        "%matplotlib inline \n",
        "loan_df = pd.read_excel('loan.xlsx')\n",
        "loan_df.head\n",
        "\n",
        "cols = []\n",
        "for col in loan_df.columns:\n",
        "    cols.append(col)\n",
        "cross_tab = pd.crosstab(loan_df.Occupation, loan_df.Decision)\n",
        "res = stat()\n",
        "res.chisq(df = cross_tab)\n",
        "print(res.summary)\n",
        "test = StringIO(res.summary)\n",
        "test1 = pd.read_csv(test)\n",
        "print(\"\\n\", test1.iat[2,0])\n",
        "\n",
        "cross_tab = pd.crosstab(loan_df.Job_status, loan_df.Decision)\n",
        "res = stat()\n",
        "res.chisq(df = cross_tab)\n",
        "print(res.summary)\n",
        "test = StringIO(res.summary)\n",
        "test1 = pd.read_csv(test)\n",
        "print(\"\\n\", test1.iat[2,0])"
      ],
      "metadata": {
        "colab": {
          "base_uri": "https://localhost:8080/"
        },
        "id": "FgEMmsFXtV3c",
        "outputId": "f87e11a4-3c4d-41e4-a3e1-4ad689d8726f"
      },
      "execution_count": 78,
      "outputs": [
        {
          "output_type": "stream",
          "name": "stdout",
          "text": [
            "\n",
            "Chi-squared test for independence\n",
            "\n",
            "Test              Df    Chi-square      P-value\n",
            "--------------  ----  ------------  -----------\n",
            "Pearson           11       54.3993  9.98007e-08\n",
            "Log-likelihood    11       57.6239  2.55315e-08\n",
            "\n",
            "\n",
            " Pearson           11       54.3993  9.98007e-08\n",
            "\n",
            "Chi-squared test for independence\n",
            "\n",
            "Test              Df    Chi-square      P-value\n",
            "--------------  ----  ------------  -----------\n",
            "Pearson            6       25.6191  0.000262115\n",
            "Log-likelihood     6       27.9294  9.68827e-05\n",
            "\n",
            "\n",
            " Pearson            6       25.6191  0.000262115\n"
          ]
        }
      ]
    },
    {
      "cell_type": "markdown",
      "source": [
        "#17 - Define a class, called Lunch, with __init__() method should have two arguments, self and menu, where menu is a string. Add a method called menu_price. It will involve an if statement: if \"menu 1\" then print \"Price 12.00\", if \"menu 2\" then print \"Price 13.40\", else print \"Error in menu\". Test with Paul = Lunch(\"menu 1\") and call Paul.menu_price()"
      ],
      "metadata": {
        "id": "ykzaPKZmtbFH"
      }
    },
    {
      "cell_type": "code",
      "source": [
        "class Lunch:\n",
        "  def __init__(self, menu):\n",
        "    self.menu = menu\n",
        "  def menu_price(self):\n",
        "    if (self.menu == \"menu 1\"):\n",
        "      print(\"Price 12.00\")\n",
        "    elif (self.menu == \"menu 2\"):\n",
        "      print(\"Price 13.40\")\n",
        "    else:\n",
        "      print(\"Error in menu\")\n",
        "\n",
        "test = Lunch(\"menu 1\")\n",
        "test.menu_price()"
      ],
      "metadata": {
        "colab": {
          "base_uri": "https://localhost:8080/"
        },
        "id": "DnFj9yyZtkSG",
        "outputId": "ccf39c14-a096-4265-ee4f-46bfc6b36668"
      },
      "execution_count": 79,
      "outputs": [
        {
          "output_type": "stream",
          "name": "stdout",
          "text": [
            "Price 12.00\n"
          ]
        }
      ]
    },
    {
      "cell_type": "markdown",
      "source": [
        "#18 - In the Kaggle insurance data set the Response column is the output variable and the rest are input variables. Perform the following:"
      ],
      "metadata": {
        "id": "ik44BLQJtnoa"
      }
    },
    {
      "cell_type": "markdown",
      "source": [
        "### 18.1 - Fill in the missing values applying an appropriate technique"
      ],
      "metadata": {
        "id": "y2POL3WhtvZg"
      }
    },
    {
      "cell_type": "code",
      "source": [
        "importexcel = pd.read_csv(\"train.csv\")\n",
        "null_columns = importexcel.columns[importexcel.isna().any()].tolist()\n",
        "size = 0\n",
        "for i in (null_columns):\n",
        "  size += 1\n",
        "for i in range(0, size):\n",
        "  print(importexcel[null_columns[i]].median())\n",
        "  importexcel[null_columns[i]] = importexcel[null_columns[i]].replace(np.nan, importexcel[null_columns[i]].median())"
      ],
      "metadata": {
        "colab": {
          "base_uri": "https://localhost:8080/"
        },
        "id": "qaVBLXoztzuc",
        "outputId": "dbcab39e-353a-40f4-8d93-e2aa7fc47790"
      },
      "execution_count": 80,
      "outputs": [
        {
          "output_type": "stream",
          "name": "stdout",
          "text": [
            "0.06\n",
            "0.0\n",
            "0.25\n",
            "0.000973333\n",
            "0.463768116\n",
            "0.519607843\n",
            "0.422535211\n",
            "0.508928571\n",
            "4.0\n",
            "229.0\n",
            "117.0\n",
            "8.0\n",
            "0.0\n"
          ]
        }
      ]
    },
    {
      "cell_type": "markdown",
      "source": [
        "### 18.2 - Make use of the insurance data set to explore the multicollinearity among the input variables"
      ],
      "metadata": {
        "id": "dOMlVDOSu-wK"
      }
    },
    {
      "cell_type": "code",
      "source": [
        "from sklearn import linear_model\n",
        "from matplotlib import pyplot as plt\n",
        "import seaborn as sns\n",
        "\n",
        "target = importexcel[\"Response\"]\n",
        "del importexcel[\"Response\"]\n",
        "del importexcel[\"Product_Info_2\"]\n",
        "reg = linear_model.LinearRegression()\n",
        "cols = importexcel.columns.tolist()\n",
        "reg.fit(importexcel[cols], target)\n",
        "reg.coef_\n",
        "\n",
        "test_importexcel = pd.read_csv(\"test.csv\")\n",
        "del test_importexcel[\"Product_Info_2\"]\n",
        "\n",
        "plt.rcParams[\"figure.figsize\"] = (30,10)\n",
        "\n",
        "fig = plt.figure()\n",
        "fig.set_dpi(100)\n",
        "ax = fig.add_subplot(111)\n",
        "cax = ax.matshow(np.linalg.inv(importexcel.corr()), cmap=\"Greens\")\n",
        "fig.colorbar(cax)\n",
        "ax.set_xticklabels([\"\"]+ cols)\n",
        "ax.set_yticklabels([\"\"]+ cols)\n",
        "plt.show()"
      ],
      "metadata": {
        "colab": {
          "base_uri": "https://localhost:8080/",
          "height": 820
        },
        "id": "nyhXu5xtvCTe",
        "outputId": "e3092474-b066-43ff-bb0f-0b4bdfbad9e3"
      },
      "execution_count": 81,
      "outputs": [
        {
          "output_type": "display_data",
          "data": {
            "text/plain": [
              "<Figure size 3000x1000 with 2 Axes>"
            ],
            "image/png": "[encoded data removed]"
          },
          "metadata": {
            "needs_background": "light"
          }
        }
      ]
    },
    {
      "cell_type": "markdown",
      "source": [
        "### 18.3 - Single out three input variables that are most relevant to predicting the output variable"
      ],
      "metadata": {
        "id": "4uyDHf-kvHi4"
      }
    },
    {
      "cell_type": "code",
      "source": [
        "import sklearn\n",
        "from sklearn.datasets import make_classification\n",
        "from matplotlib import pyplot\n",
        "import operator\n",
        "from operator import itemgetter\n",
        "from sklearn.datasets import make_regression\n",
        "from sklearn.linear_model import LinearRegression\n",
        "from matplotlib import pyplot\n",
        "\n",
        "importexcel = pd.read_csv(\"train.csv\")\n",
        "size = 0\n",
        "null_cols = importexcel.columns[importexcel.isna().any()].tolist()\n",
        "\n",
        "for i in (null_cols):\n",
        "  size += 1\n",
        "  \n",
        "for i in range(0, len(null_cols)):\n",
        "  print(importexcel[null_cols[i]].median())\n",
        "  importexcel[null_cols[i]] = importexcel[null_cols[i]].replace(np.nan, importexcel[null_cols[i]].median())\n",
        "\n",
        "dict_imp ={}\n",
        "importexcel_train = pd.read_csv(\"train.csv\")\n",
        "train_importexcel_y = importexcel_train[\"Response\"]\n",
        "train_importexcel_x = importexcel.drop(\"Response\", axis =1)\n",
        "train_importexcel_x = importexcel.drop(\"Product_Info_2\", axis =1)\n",
        "model = LinearRegression()\n",
        "model.fit(train_importexcel_x, train_importexcel_y)\n",
        "importance = model.coef_\n",
        "for i,v in enumerate(importance):\n",
        "  dict_imp[i] = v\n",
        "print(\"-----------------------------------\")\n",
        "res = dict(sorted(dict_imp.items(), key = itemgetter(1), reverse = True)[:3])\n",
        "print(res)\n",
        "print(\"-----------------------------------\")\n",
        "print(\"important features are: \")\n",
        "for i in res:\n",
        " print(importexcel.columns[i-1])"
      ],
      "metadata": {
        "colab": {
          "base_uri": "https://localhost:8080/"
        },
        "id": "x3kct8LXvLk8",
        "outputId": "01f03f85-7cf9-485e-892e-b6483c778252"
      },
      "execution_count": 82,
      "outputs": [
        {
          "output_type": "stream",
          "name": "stdout",
          "text": [
            "0.06\n",
            "0.0\n",
            "0.25\n",
            "0.000973333\n",
            "0.463768116\n",
            "0.519607843\n",
            "0.422535211\n",
            "0.508928571\n",
            "4.0\n",
            "229.0\n",
            "117.0\n",
            "8.0\n",
            "0.0\n",
            "-----------------------------------\n",
            "{126: 1.0000000000000189, 8: 1.2270729571328687e-11, 10: 8.854986188744363e-12}\n",
            "-----------------------------------\n",
            "important features are: \n",
            "Medical_Keyword_47\n",
            "Product_Info_7\n",
            "Ht\n"
          ]
        }
      ]
    }
  ]
}